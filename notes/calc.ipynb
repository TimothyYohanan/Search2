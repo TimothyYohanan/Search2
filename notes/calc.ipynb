{
 "cells": [
  {
   "cell_type": "code",
   "execution_count": 1,
   "metadata": {},
   "outputs": [],
   "source": [
    "import sys\n",
    "sys.path.append(\"../generators/generator_helpers\")\n",
    "\n",
    "from shared_functions import *"
   ]
  },
  {
   "cell_type": "markdown",
   "metadata": {},
   "source": [
    "Load words from a text file and group them by word size."
   ]
  },
  {
   "cell_type": "code",
   "execution_count": 2,
   "metadata": {},
   "outputs": [],
   "source": [
    "word_list : list = load_words()\n",
    "\n",
    "word_list_grouped_by_word_length : list[list] = group_words_by_length(word_list)\n",
    "if (len(word_list) != sum(len(group) for group in word_list_grouped_by_word_length)) : raise AssertionError(\"word_list_grouped_by_word_length is missing some words.\")"
   ]
  },
  {
   "cell_type": "markdown",
   "metadata": {},
   "source": [
    "Calculate metrics about the word list."
   ]
  },
  {
   "cell_type": "code",
   "execution_count": 3,
   "metadata": {},
   "outputs": [],
   "source": [
    "nWords = 0\n",
    "nCharacters = 0\n",
    "\n",
    "for group in word_list_grouped_by_word_length:\n",
    "    nWords += len(group)\n",
    "    for word in group:\n",
    "        nCharacters += len(word)"
   ]
  },
  {
   "cell_type": "markdown",
   "metadata": {},
   "source": [
    "Calculate memory requirements"
   ]
  },
  {
   "cell_type": "code",
   "execution_count": 4,
   "metadata": {},
   "outputs": [],
   "source": [
    "memSizeBits = 0\n",
    "\n",
    "for wordGroup in word_list_grouped_by_word_length:\n",
    "    wordSize     = len(wordGroup[0])\n",
    "    groupSize    = len(wordGroup)\n",
    "    \n",
    "    memSizeBits += 8  * groupSize * wordSize\n",
    "    memSizeBits += 16 * wordSize * groupSize\n",
    "    memSizeBits += 16 * wordSize * 26 * 2\n",
    "\n",
    "memSizeBytes = memSizeBits / 8\n",
    "memSizeMegabytes = memSizeBytes / 1e6\n",
    "    "
   ]
  },
  {
   "cell_type": "markdown",
   "metadata": {},
   "source": [
    "Print results"
   ]
  },
  {
   "cell_type": "code",
   "execution_count": 5,
   "metadata": {},
   "outputs": [
    {
     "name": "stdout",
     "output_type": "stream",
     "text": [
      "Number of words: 370,104\n",
      "Number of words (sanity check): 370,104\n",
      "Number of letters: 3,494,695\n",
      "Number of characters: 3,494,695\n",
      "Memory required: 84,238,760 bits\n",
      "Memory required: 10.529845 Mb\n",
      "Unsigned bits needed to represent any/all of the registers in this memory block if it starts at 0x00: 27\n"
     ]
    }
   ],
   "source": [
    "print(f\"Number of words: {nWords:,}\")\n",
    "print(f\"Number of words (sanity check): {len(word_list):,}\")\n",
    "print(f\"Number of letters: {sum(len(word) for word in word_list):,}\")\n",
    "print(f\"Number of characters: {nCharacters:,}\")\n",
    "print(f\"Memory required: {memSizeBits:,} bits\")\n",
    "print(f\"Memory required: {memSizeMegabytes} Mb\")\n",
    "print(f\"Unsigned bits needed to represent any/all of the registers in this memory block if it starts at 0x00: {memSizeBits.bit_length()}\")\n"
   ]
  }
 ],
 "metadata": {
  "kernelspec": {
   "display_name": "Python 3",
   "language": "python",
   "name": "python3"
  },
  "language_info": {
   "codemirror_mode": {
    "name": "ipython",
    "version": 3
   },
   "file_extension": ".py",
   "mimetype": "text/x-python",
   "name": "python",
   "nbconvert_exporter": "python",
   "pygments_lexer": "ipython3",
   "version": "3.9.21"
  }
 },
 "nbformat": 4,
 "nbformat_minor": 2
}
