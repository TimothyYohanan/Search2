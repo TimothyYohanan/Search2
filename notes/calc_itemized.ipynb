{
 "cells": [
  {
   "cell_type": "code",
   "execution_count": 127,
   "metadata": {},
   "outputs": [],
   "source": [
    "from shared_functions import *"
   ]
  },
  {
   "cell_type": "markdown",
   "metadata": {},
   "source": [
    "Load words from a text file and group them by word size."
   ]
  },
  {
   "cell_type": "code",
   "execution_count": 128,
   "metadata": {},
   "outputs": [],
   "source": [
    "word_list : list = load_words()\n",
    "\n",
    "word_list_grouped_by_word_length : list[list] = group_words_by_length(word_list)\n",
    "if (len(word_list) != sum(len(group) for group in word_list_grouped_by_word_length)) : raise AssertionError(\"word_list_grouped_by_word_length is missing some words.\")"
   ]
  },
  {
   "cell_type": "markdown",
   "metadata": {},
   "source": [
    "Calculate metrics about words\n",
    "- That's a big number in terms of stack memory\n",
    "- Test putting this in the program data segment for comparison"
   ]
  },
  {
   "cell_type": "code",
   "execution_count": 129,
   "metadata": {},
   "outputs": [
    {
     "name": "stdout",
     "output_type": "stream",
     "text": [
      "Word arrays' size: 3,494,695 bytes\n"
     ]
    }
   ],
   "source": [
    "memSizeBytes = 0\n",
    "\n",
    "for wordGroup in word_list_grouped_by_word_length:\n",
    "    wordSize     = len(wordGroup[0])\n",
    "    groupSize    = len(wordGroup)\n",
    "    \n",
    "    memSizeBytes += 1  * groupSize * wordSize\n",
    "\n",
    "print(f\"Word arrays' size: {memSizeBytes:,} bytes\")"
   ]
  },
  {
   "cell_type": "markdown",
   "metadata": {},
   "source": [
    "Calculate metrics about Indexes\n",
    "- That's a big number in terms of stack memory\n",
    "- Test putting this in the program data segment for comparison"
   ]
  },
  {
   "cell_type": "code",
   "execution_count": 130,
   "metadata": {},
   "outputs": [
    {
     "name": "stdout",
     "output_type": "stream",
     "text": [
      "Index arrays' size: 6,989,390 bytes\n"
     ]
    }
   ],
   "source": [
    "memSizeBytes = 0\n",
    "\n",
    "for wordGroup in word_list_grouped_by_word_length:\n",
    "    wordSize     = len(wordGroup[0])\n",
    "    groupSize    = len(wordGroup)\n",
    "    \n",
    "    memSizeBytes += 2 * wordSize * groupSize\n",
    "\n",
    "print(f\"Index arrays' size: {memSizeBytes:,} bytes\")"
   ]
  },
  {
   "cell_type": "markdown",
   "metadata": {},
   "source": [
    "Calculate metrics about Skip Indexes\n",
    "- Hmm. That could be cut in half. Addition/subtraction is fast. The innermost array in the set only saves on an addition/subtraction opperation.\n",
    "- Leave in stack, with the full-sized array for now. Lets see how much the number of page faults decreases with the changes listed above."
   ]
  },
  {
   "cell_type": "code",
   "execution_count": 131,
   "metadata": {},
   "outputs": [
    {
     "name": "stdout",
     "output_type": "stream",
     "text": [
      "Skip index arrays' size: 45,760 bytes\n"
     ]
    }
   ],
   "source": [
    "memSizeBytes = 0\n",
    "\n",
    "for wordGroup in word_list_grouped_by_word_length:\n",
    "    wordSize     = len(wordGroup[0])\n",
    "    groupSize    = len(wordGroup)\n",
    "    \n",
    "    memSizeBytes += 2 * wordSize * 26 * 2\n",
    "\n",
    "print(f\"Skip index arrays' size: {memSizeBytes:,} bytes\")"
   ]
  },
  {
   "cell_type": "markdown",
   "metadata": {},
   "source": [
    "Calculate metrics about wlPart\n",
    "- ct      is uint16_t   : 2 bytes\n",
    "- size    is uint8_t    : 1 bytes\n",
    "- words   is char*      : 8 bytes (on x64)\n",
    "- idxs    is uint16_t*  : 8 bytes (on x64)\n",
    "- skIdxs  is uint16_t*  : 8 bytes (on x64)"
   ]
  },
  {
   "cell_type": "code",
   "execution_count": 132,
   "metadata": {},
   "outputs": [
    {
     "name": "stdout",
     "output_type": "stream",
     "text": [
      "Word List Parition structure size: 27 bytes\n",
      "\n",
      "If I were to align this manually, I would be thinking about a 32-byte boundary\n",
      "\n",
      "Since there are 29 groups, these structures will take up ~928 bytes in total.\n"
     ]
    }
   ],
   "source": [
    "wlPart_size_bytes = 2 + 1 + 8 + 8 + 8\n",
    "\n",
    "print(f\"Word List Parition structure size: {wlPart_size_bytes:,} bytes\\n\")\n",
    "print(f\"If I were to align this manually, I would be thinking about a 32-byte boundary\\n\") # ceil(n / 32) * 32\n",
    "print(f\"Since there are {len(word_list_grouped_by_word_length)} groups, these structures will take up ~{32 * len(word_list_grouped_by_word_length)} bytes in total.\")"
   ]
  },
  {
   "cell_type": "markdown",
   "metadata": {},
   "source": [
    "Calculate metrics about wordList and mutableWordList\n",
    "- ct      is  uint16_t   : 2 bytes\n",
    "- wlPart  is  wlPart[n]  : 32 * n\n",
    "- sizes   is  uint8_t[n] : 8 * n"
   ]
  },
  {
   "cell_type": "code",
   "execution_count": 133,
   "metadata": {},
   "outputs": [
    {
     "name": "stdout",
     "output_type": "stream",
     "text": [
      "Word List structure size: 1,162\n",
      "\n",
      "If I were to align this manually, I would be thinking about a 1216-byte boundary\n",
      "\n"
     ]
    }
   ],
   "source": [
    "wordList_size_bytes = 2 + len(word_list_grouped_by_word_length) * (32 + 8)\n",
    "\n",
    "print(f\"Word List structure size: {wordList_size_bytes:,}\\n\")\n",
    "print(f\"If I were to align this manually, I would be thinking about a 1216-byte boundary\\n\") # ceil(n / 64) * 64"
   ]
  },
  {
   "cell_type": "markdown",
   "metadata": {},
   "source": [
    "Unrelated:\n",
    "\n",
    "\n",
    "Ideas about how to store the search state\n",
    "eg. last frame, the user typed in a character, this frame they pasted something, and now they hit backspace, etc..\n",
    "\n",
    "I don't think you can do much better than a sorted array of ranges of indexes or memory locations.\n",
    "Storing indexes would require less memory on 64-bit architectures.\n",
    "\n",
    "struct {\n",
    "    uint16_t start;\n",
    "    uint16_t end;\n",
    "} range; // 4 bytes\n",
    "\n",
    "range* w1_results = malloc(1); // realloc ...\n",
    "range* w2_results = malloc(1);\n",
    "\n",
    ".\n",
    ".\n",
    ".\n",
    "\n",
    "void* results[29]; // 232 bytes"
   ]
  }
 ],
 "metadata": {
  "kernelspec": {
   "display_name": "Python 3",
   "language": "python",
   "name": "python3"
  },
  "language_info": {
   "codemirror_mode": {
    "name": "ipython",
    "version": 3
   },
   "file_extension": ".py",
   "mimetype": "text/x-python",
   "name": "python",
   "nbconvert_exporter": "python",
   "pygments_lexer": "ipython3",
   "version": "3.9.21"
  }
 },
 "nbformat": 4,
 "nbformat_minor": 2
}
