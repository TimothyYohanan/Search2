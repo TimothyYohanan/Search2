{
 "cells": [
  {
   "cell_type": "code",
   "execution_count": 3,
   "metadata": {},
   "outputs": [],
   "source": [
    "import sys\n",
    "sys.path.append(\"../generators/generator_helpers\")\n",
    "\n",
    "from shared_functions import *"
   ]
  },
  {
   "cell_type": "markdown",
   "metadata": {},
   "source": [
    "Count letters, allowing for duplicate words"
   ]
  },
  {
   "cell_type": "code",
   "execution_count": 4,
   "metadata": {},
   "outputs": [
    {
     "name": "stdout",
     "output_type": "stream",
     "text": [
      "ct 'e': 376454\n",
      "ct 't': 230895\n",
      "ct 'a': 295792\n",
      "ct 'o': 251596\n",
      "ct 'i': 313008\n",
      "Total: 1467745\n"
     ]
    }
   ],
   "source": [
    "with open('../words_alpha.txt', 'r') as file:\n",
    "    words : set = set(word.strip() for word in file.readlines())\n",
    "\n",
    "    e_ct : int = 0\n",
    "    t_ct : int = 0\n",
    "    a_ct : int = 0\n",
    "    o_ct : int = 0\n",
    "    i_ct : int = 0\n",
    "\n",
    "    for word in words:\n",
    "        for letter in word:\n",
    "            if letter == 'e':\n",
    "                e_ct += 1\n",
    "            elif letter == 't':\n",
    "                t_ct += 1\n",
    "            elif letter == 'a':\n",
    "                a_ct += 1\n",
    "            elif letter == 'o':\n",
    "                o_ct += 1\n",
    "            elif letter == 'i':\n",
    "                i_ct += 1\n",
    "            else:\n",
    "                pass\n",
    "    \n",
    "    ct : int = e_ct + t_ct + a_ct + o_ct + i_ct\n",
    "\n",
    "    print(f\"ct 'e': {e_ct}\")\n",
    "    print(f\"ct 't': {t_ct}\")\n",
    "    print(f\"ct 'a': {a_ct}\")\n",
    "    print(f\"ct 'o': {o_ct}\")\n",
    "    print(f\"ct 'i': {i_ct}\")\n",
    "    print(f\"Total: {ct}\")"
   ]
  }
 ],
 "metadata": {
  "kernelspec": {
   "display_name": "Python 3",
   "language": "python",
   "name": "python3"
  },
  "language_info": {
   "codemirror_mode": {
    "name": "ipython",
    "version": 3
   },
   "file_extension": ".py",
   "mimetype": "text/x-python",
   "name": "python",
   "nbconvert_exporter": "python",
   "pygments_lexer": "ipython3",
   "version": "3.9.21"
  }
 },
 "nbformat": 4,
 "nbformat_minor": 2
}
